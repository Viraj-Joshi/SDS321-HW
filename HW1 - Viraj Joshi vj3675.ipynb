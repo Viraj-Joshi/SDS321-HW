{
 "cells": [
  {
   "cell_type": "code",
   "execution_count": 19,
   "metadata": {},
   "outputs": [
    {
     "data": {
      "text/html": [
       "<div>\n",
       "<style scoped>\n",
       "    .dataframe tbody tr th:only-of-type {\n",
       "        vertical-align: middle;\n",
       "    }\n",
       "\n",
       "    .dataframe tbody tr th {\n",
       "        vertical-align: top;\n",
       "    }\n",
       "\n",
       "    .dataframe thead th {\n",
       "        text-align: right;\n",
       "    }\n",
       "</style>\n",
       "<table border=\"1\" class=\"dataframe\">\n",
       "  <thead>\n",
       "    <tr style=\"text-align: right;\">\n",
       "      <th></th>\n",
       "      <th>Directors</th>\n",
       "      <th>Frequency</th>\n",
       "    </tr>\n",
       "  </thead>\n",
       "  <tbody>\n",
       "    <tr>\n",
       "      <th>0</th>\n",
       "      <td>4</td>\n",
       "      <td>3</td>\n",
       "    </tr>\n",
       "    <tr>\n",
       "      <th>1</th>\n",
       "      <td>5</td>\n",
       "      <td>12</td>\n",
       "    </tr>\n",
       "    <tr>\n",
       "      <th>2</th>\n",
       "      <td>6</td>\n",
       "      <td>13</td>\n",
       "    </tr>\n",
       "    <tr>\n",
       "      <th>3</th>\n",
       "      <td>7</td>\n",
       "      <td>25</td>\n",
       "    </tr>\n",
       "    <tr>\n",
       "      <th>4</th>\n",
       "      <td>8</td>\n",
       "      <td>24</td>\n",
       "    </tr>\n",
       "  </tbody>\n",
       "</table>\n",
       "</div>"
      ],
      "text/plain": [
       "   Directors  Frequency\n",
       "0          4          3\n",
       "1          5         12\n",
       "2          6         13\n",
       "3          7         25\n",
       "4          8         24"
      ]
     },
     "execution_count": 19,
     "metadata": {},
     "output_type": "execute_result"
    }
   ],
   "source": [
    "import pandas as pd\n",
    "import matplotlib.pyplot as plt\n",
    "\n",
    "df1 = pd.read_excel('Ch 1 Problem 18.xlsx')\n",
    "df1.head()"
   ]
  },
  {
   "cell_type": "markdown",
   "metadata": {},
   "source": [
    "## 18a)"
   ]
  },
  {
   "cell_type": "code",
   "execution_count": 20,
   "metadata": {},
   "outputs": [
    {
     "data": {
      "image/png": "[encoded data removed]",
      "text/plain": [
       "<Figure size 432x288 with 1 Axes>"
      ]
     },
     "metadata": {
      "needs_background": "light"
     },
     "output_type": "display_data"
    }
   ],
   "source": [
    "fig,ax = plt.subplots()\n",
    "b= [4,8,12,16,20,24,28,32,36]\n",
    "ax.hist(df1['Directors'], bins= b, density = True)\n",
    "\n",
    "ax.set_xticks(b)\n",
    "plt.xlabel('Number of Directors')\n",
    "plt.ylabel('Density')\n",
    "plt.title('Histogram of Directors at Various Companies')\n",
    "plt.show()"
   ]
  },
  {
   "cell_type": "markdown",
   "metadata": {},
   "source": [
    "The histogram is postively skewed. We see that over half of the companies have less than 16 directors."
   ]
  },
  {
   "cell_type": "markdown",
   "metadata": {},
   "source": [
    "### 18c) \n",
    "The proportion of these corporations that have at most 10 directors is\n",
    "$$ \\frac {3 + 12 + 13 + 25 + 24 + 42 + 23}{204} = \\frac{142}{204} = .696$$\n",
    "\n",
    "### 18d) \n",
    "The proportion of these corporations that have more than 15 directors is\n",
    "$$ \\frac {1 + 3 + 1 + 1 + 1}{204} = \\frac{7}{204} = .034$$\n"
   ]
  },
  {
   "cell_type": "markdown",
   "metadata": {},
   "source": [
    "## 20b "
   ]
  },
  {
   "cell_type": "code",
   "execution_count": 21,
   "metadata": {
    "scrolled": false
   },
   "outputs": [
    {
     "data": {
      "image/png": "[encoded data removed]",
      "text/plain": [
       "<Figure size 432x288 with 1 Axes>"
      ]
     },
     "metadata": {
      "needs_background": "light"
     },
     "output_type": "display_data"
    }
   ],
   "source": [
    "df1 = pd.read_excel(\"Ch 1 Problem 20.xlsx\")\n",
    "#display(df1.sort_values(['length']))\n",
    "fig,ax = plt.subplots()\n",
    "b= [0 ,1000 ,2000 ,3000 ,4000 ,5000 ,6000 ]\n",
    "ax.hist(df1['length'], bins= b)\n",
    "\n",
    "ax.set_xticks(b)\n",
    "plt.xlabel('Length of Streets within a subdivision')\n",
    "plt.ylabel('Frequencies')\n",
    "plt.title('Histogram of Length of Streets within a subdivision')\n",
    "plt.show()"
   ]
  },
  {
   "cell_type": "markdown",
   "metadata": {},
   "source": [
    "The proportion of subdivisions have total length less than 2000 is\n",
    "$$ \\frac {20975}{104874} = .200$$\n",
    "\n",
    "Between 2000 and 4000?\n",
    "$$ \\frac {46879}{104874} = .447$$\n",
    "\n",
    "The shape of the histogram is postively skewed ( right tail stretched out).\n",
    "\n",
    "### 25"
   ]
  },
  {
   "cell_type": "code",
   "execution_count": 22,
   "metadata": {},
   "outputs": [
    {
     "data": {
      "text/plain": [
       "Text(0.5, 1.0, 'Histogram of Transformed IDT Data')"
      ]
     },
     "execution_count": 22,
     "metadata": {},
     "output_type": "execute_result"
    },
    {
     "data": {
      "image/png": "[encoded data removed]",
      "text/plain": [
       "<Figure size 1080x360 with 2 Axes>"
      ]
     },
     "metadata": {
      "needs_background": "light"
     },
     "output_type": "display_data"
    }
   ],
   "source": [
    "df1 = pd.read_excel(\"Ch 1 Problem 25.xlsx\")\n",
    "\n",
    "\n",
    "fig,(ax1,ax2) = plt.subplots(1,2,figsize=(15,5))\n",
    "b= [10, 20, 30 , 40, 50, 60, 70 ,80]\n",
    "ax1.hist(df1['IDT'], bins= b)\n",
    "ax1.set_xticks(b)\n",
    "ax1.set_xlabel('IDT time')\n",
    "ax1.set_ylabel('Frequencies')\n",
    "ax1.set_title('Histogram of Untransformed IDT Data') \n",
    "\n",
    "b= [1.1, 1.2, 1.3, 1.4, 1.5, 1.6, 1.7, 1.8, 1.9]\n",
    "ax2.hist(df1['log10(ID'], bins= b)\n",
    "ax2.set_xticks(b)\n",
    "ax2.set_xlabel('IDT time')\n",
    "ax2.set_ylabel('Frequencies')\n",
    "ax2.set_title('Histogram of Transformed IDT Data')\n"
   ]
  },
  {
   "cell_type": "markdown",
   "metadata": {},
   "source": [
    "The effect of the transformation is changing the first histogram's positively skewed shape to one that is much more symmetric and closer to bell-shaped.\n",
    "\n",
    "### 36a\n",
    "\n",
    "Bin Width: $ \\frac{424-325}{5} = 19.8 = 20 $"
   ]
  },
  {
   "cell_type": "code",
   "execution_count": 23,
   "metadata": {},
   "outputs": [
    {
     "name": "stdout",
     "output_type": "stream",
     "text": [
      "(array([ 4.,  4., 11.,  5.,  2.]), array([320, 340, 360, 380, 400, 420]), <a list of 5 Patch objects>)\n"
     ]
    },
    {
     "data": {
      "image/png": "[encoded data removed]",
      "text/plain": [
       "<Figure size 432x288 with 1 Axes>"
      ]
     },
     "metadata": {
      "needs_background": "light"
     },
     "output_type": "display_data"
    }
   ],
   "source": [
    "df1 = pd.read_excel(\"Ch 1 Problem 36.xlsx\")\n",
    "fig,(ax1) = plt.subplots()\n",
    "b= [320, 340, 360, 380, 400, 420]\n",
    "ax1.set_xticks(b)\n",
    "ax1.set_xlabel('Time(sec)')\n",
    "ax1.set_ylabel('Frequencies')\n",
    "ax1.set_title('Histogram of time for simulated escape exercise')\n",
    "print(ax1.hist(df1['Time'], bins= b))"
   ]
  },
  {
   "cell_type": "markdown",
   "metadata": {},
   "source": [
    "\n",
    "### 36b \n",
    "$$\\overline{x} = \\sum_{i=1}^n \\frac{x_{i}}{n} = \\frac{9638}{26} = 370.692 \\text{ sec}$$\n",
    "$$\\tilde{x} = 369.5 \\text{ sec}$$\n",
    "\n",
    "### 36c\n",
    "The largest time, $424$, could be increased without bound, without affecting the sample median. The median can be decreased 54 units at most before the sample median changes.\n",
    "\n",
    "### 36d\n",
    "$$ \\overline{x} = \\frac{159.733}{26} = 6.144 \\text{ minutes}$$\n",
    "$$ \\tilde{x} = 6.158 \\text{ minutes}$$\n",
    "\n",
    "### 42a\n",
    "\n",
    "$$ \\overline{y} = c + \\overline{x} $$\n",
    "$$ \\tilde{y} = c + \\tilde{x} $$"
   ]
  },
  {
   "cell_type": "code",
   "execution_count": 29,
   "metadata": {},
   "outputs": [
    {
     "name": "stdout",
     "output_type": "stream",
     "text": [
      "32.317499999999995\n",
      "28.05\n",
      "33.317499999999995\n",
      "29.05\n"
     ]
    }
   ],
   "source": [
    "df1 = pd.read_excel(\"Ch 1 Problem 25.xlsx\")\n",
    "print(df1['IDT'].mean())\n",
    "print(df1['IDT'].median())\n",
    "\n",
    "df2 = df1.assign(added = lambda x:(x['IDT']+1))\n",
    "print(df2['added'].mean())\n",
    "print(df2['added'].median())"
   ]
  },
  {
   "cell_type": "markdown",
   "metadata": {},
   "source": [
    "Using problem 25's dataset, we saw that by adding one to the $x_{i}$ith observation transformed $\\overline{x}$ and $\\tilde{x}$\n",
    "with the above formulas( adding c to each sample statistic).\n",
    "\n",
    "### 42b\n",
    "$$ \\overline{y} = \\frac{(c*x_{1} + c*x_{2} + ... + c*x_{n})}{n} = \\frac{(n * c) ( x_{1} + x_{2} + ... + x_{n})}{n} = c*\\overline{x}$$\n",
    "\n",
    "$$ \\tilde{y} = c * \\tilde{x} $$\n",
    "\n",
    "We can look at 36d for verification.\n",
    "$ \\overline{x} \\text{ } and \\text{ } \\tilde{x}$ ,when the $x_{i}$ th observations were rexpressed in minutes, were transformed into (following the above formulas) $$\\overline{y} = \\frac{1}{60}*370.692 = 6.144 $$  $$\\tilde{y} = \\frac{1}{60}*369.5 = 6.158 $$\n",
    "### 48"
   ]
  },
  {
   "cell_type": "code",
   "execution_count": null,
   "metadata": {},
   "outputs": [],
   "source": []
  }
 ],
 "metadata": {
  "kernelspec": {
   "display_name": "Python [conda env:tst]",
   "language": "python",
   "name": "conda-env-tst-py"
  },
  "language_info": {
   "codemirror_mode": {
    "name": "ipython",
    "version": 3
   },
   "file_extension": ".py",
   "mimetype": "text/x-python",
   "name": "python",
   "nbconvert_exporter": "python",
   "pygments_lexer": "ipython3",
   "version": "3.6.8"
  }
 },
 "nbformat": 4,
 "nbformat_minor": 2
}
